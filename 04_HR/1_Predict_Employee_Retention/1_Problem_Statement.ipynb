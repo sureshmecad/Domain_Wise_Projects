{
 "cells": [
  {
   "cell_type": "markdown",
   "metadata": {},
   "source": [
    "### Problem Statement:\n",
    "\n",
    "- Build a model to predict Employee Retention"
   ]
  },
  {
   "cell_type": "markdown",
   "metadata": {},
   "source": [
    "### Data inputs                                                        \n",
    "\n",
    "- EMPID                                                                     \n",
    "\n",
    "- SATISFACTION_LEVEL\n",
    "\n",
    "- LAST_EVALUATION\n",
    "\n",
    "- NUMBER_PROJECT\n",
    "\n",
    "- AVERAGE_MONTHLY_HOURS\n",
    "\n",
    "- TIME_SPEND_COMPANY\n",
    "\n",
    "- WORK_ACCIDENT\n",
    "\n",
    "- PROMOTION_LAST_5YEARS\n",
    "\n",
    "- SALARY\n",
    "\n",
    "\n",
    "### Data output\n",
    "\n",
    "\n",
    "- LEFT"
   ]
  }
 ],
 "metadata": {
  "kernelspec": {
   "display_name": "Python 3",
   "language": "python",
   "name": "python3"
  },
  "language_info": {
   "codemirror_mode": {
    "name": "ipython",
    "version": 3
   },
   "file_extension": ".py",
   "mimetype": "text/x-python",
   "name": "python",
   "nbconvert_exporter": "python",
   "pygments_lexer": "ipython3",
   "version": "3.7.3"
  }
 },
 "nbformat": 4,
 "nbformat_minor": 2
}
