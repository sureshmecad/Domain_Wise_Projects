{
 "cells": [
  {
   "cell_type": "markdown",
   "metadata": {},
   "source": [
    "## Credit Card Fraud Detection\n",
    "- Anonymized **credit card** transactions labeled as **fraudulent or genuine**"
   ]
  },
  {
   "cell_type": "markdown",
   "metadata": {},
   "source": [
    "--------------------"
   ]
  },
  {
   "cell_type": "markdown",
   "metadata": {},
   "source": [
    "## Context\n",
    "- It is important that credit card companies are able to **recognize fraudulent credit card transactions** so that customers are not charged for items that they **did not purchase.**"
   ]
  },
  {
   "cell_type": "markdown",
   "metadata": {},
   "source": [
    "## Content\n",
    "- The datasets contains **transactions** made by **credit cards in September 2013 by european cardholders.** This dataset presents transactions that occurred in **two days,** where we have **492 frauds out of 284,807 transactions.** The dataset is highly **unbalanced,** the **positive class (frauds)** account for 0.172% of all transactions.\n",
    "\n",
    "\n",
    "- It contains only numerical input variables which are the result of a **PCA transformation.** Unfortunately, due to confidentiality issues, we cannot provide the original features and more background information about the data. **Features V1, V2, … V28 are the principal components obtained with PCA,** the only features which have not been transformed with PCA are **'Time' and 'Amount'.** \n",
    "\n",
    "\n",
    "- Feature 'Time' contains the **seconds elapsed between each transaction and the first transaction in the dataset.** The feature 'Amount' is the **transaction Amount,** this feature can be used for example-dependant cost-senstive learning. **Feature 'Class'** is the response variable and it takes **value 1 in case of fraud and 0 otherwise.**"
   ]
  },
  {
   "cell_type": "markdown",
   "metadata": {},
   "source": [
    "## Inspiration\n",
    "- Identify fraudulent credit card transactions.\n",
    "\n",
    "\n",
    "- Given the class imbalance ratio, we recommend measuring the **accuracy** using the **Area Under the Precision-Recall Curve (AUPRC). Confusion matrix accuracy is not meaningful for unbalanced classification.**"
   ]
  },
  {
   "cell_type": "markdown",
   "metadata": {},
   "source": [
    "------------------"
   ]
  },
  {
   "cell_type": "markdown",
   "metadata": {},
   "source": [
    "|             Feature           |                                        Description                                          |\n",
    "|-------------------------------|---------------------------------------------------------------------------------------------|\n",
    "|        Time      | Number of seconds elapsed between this transaction and the first transaction in the dataset              |\n",
    "|      V1 - V28    | may be result of a PCA Dimensionality reduction to protect user identities and sensitive features(v1-v28)|"
   ]
  },
  {
   "cell_type": "markdown",
   "metadata": {},
   "source": [
    "-------------------"
   ]
  }
 ],
 "metadata": {
  "kernelspec": {
   "display_name": "Python 3",
   "language": "python",
   "name": "python3"
  },
  "language_info": {
   "codemirror_mode": {
    "name": "ipython",
    "version": 3
   },
   "file_extension": ".py",
   "mimetype": "text/x-python",
   "name": "python",
   "nbconvert_exporter": "python",
   "pygments_lexer": "ipython3",
   "version": "3.7.3"
  }
 },
 "nbformat": 4,
 "nbformat_minor": 2
}
