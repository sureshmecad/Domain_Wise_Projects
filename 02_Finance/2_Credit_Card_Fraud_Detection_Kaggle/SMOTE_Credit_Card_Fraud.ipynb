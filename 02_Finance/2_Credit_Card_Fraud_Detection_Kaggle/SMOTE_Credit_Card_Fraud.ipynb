{
 "cells": [
  {
   "cell_type": "markdown",
   "metadata": {},
   "source": [
    "<h1 style=\"color:green\" align=\"center\"> Credit Card Fraud </h1>"
   ]
  },
  {
   "cell_type": "markdown",
   "metadata": {},
   "source": [
    "-------------"
   ]
  },
  {
   "cell_type": "code",
   "execution_count": 2,
   "metadata": {},
   "outputs": [],
   "source": [
    "#import required libraries\n",
    "import pandas as pd\n",
    "import numpy as np\n",
    "import seaborn as sns\n",
    "import matplotlib.pyplot as plt\n",
    "%matplotlib inline\n",
    "from sklearn.model_selection import train_test_split\n",
    "from sklearn.linear_model import LogisticRegression"
   ]
  },
  {
   "cell_type": "markdown",
   "metadata": {},
   "source": [
    "###### Data Collection"
   ]
  },
  {
   "cell_type": "code",
   "execution_count": 25,
   "metadata": {},
   "outputs": [],
   "source": [
    "df=pd.read_csv(\"Credit Card data.csv\")"
   ]
  },
  {
   "cell_type": "markdown",
   "metadata": {},
   "source": [
    "###### EDA"
   ]
  },
  {
   "cell_type": "code",
   "execution_count": 5,
   "metadata": {},
   "outputs": [
    {
     "name": "stdout",
     "output_type": "stream",
     "text": [
      "<class 'pandas.core.frame.DataFrame'>\n",
      "RangeIndex: 284807 entries, 0 to 284806\n",
      "Data columns (total 32 columns):\n",
      "Unnamed: 0    284807 non-null int64\n",
      "Time          284807 non-null float64\n",
      "V1            284807 non-null float64\n",
      "V2            284807 non-null float64\n",
      "V3            284807 non-null float64\n",
      "V4            284807 non-null float64\n",
      "V5            284807 non-null float64\n",
      "V6            284807 non-null float64\n",
      "V7            284807 non-null float64\n",
      "V8            284807 non-null float64\n",
      "V9            284807 non-null float64\n",
      "V10           284807 non-null float64\n",
      "V11           284807 non-null float64\n",
      "V12           284807 non-null float64\n",
      "V13           284807 non-null float64\n",
      "V14           284807 non-null float64\n",
      "V15           284807 non-null float64\n",
      "V16           284807 non-null float64\n",
      "V17           284807 non-null float64\n",
      "V18           284807 non-null float64\n",
      "V19           284807 non-null float64\n",
      "V20           284807 non-null float64\n",
      "V21           284807 non-null float64\n",
      "V22           284807 non-null float64\n",
      "V23           284807 non-null float64\n",
      "V24           284807 non-null float64\n",
      "V25           284807 non-null float64\n",
      "V26           284807 non-null float64\n",
      "V27           284807 non-null float64\n",
      "V28           284807 non-null float64\n",
      "Amount        284807 non-null float64\n",
      "Class         284807 non-null int64\n",
      "dtypes: float64(30), int64(2)\n",
      "memory usage: 69.5 MB\n"
     ]
    }
   ],
   "source": [
    "df.info()"
   ]
  },
  {
   "cell_type": "code",
   "execution_count": 4,
   "metadata": {},
   "outputs": [
    {
     "data": {
      "text/plain": [
       "<matplotlib.axes._subplots.AxesSubplot at 0x7f30303ab0b8>"
      ]
     },
     "execution_count": 4,
     "metadata": {},
     "output_type": "execute_result"
    },
    {
     "data": {
      "image/png": "[encoded data removed]",
      "text/plain": [
       "<Figure size 432x288 with 1 Axes>"
      ]
     },
     "execution_count": 4,
     "metadata": {
      "image/png": {
       "height": 245,
       "width": 394
      }
     },
     "output_type": "execute_result"
    }
   ],
   "source": [
    "df['Class'].value_counts().plot.bar()"
   ]
  },
  {
   "cell_type": "code",
   "execution_count": 6,
   "metadata": {
    "scrolled": true
   },
   "outputs": [
    {
     "name": "stdout",
     "output_type": "stream",
     "text": [
      "Proportion of the classes in the data\n",
      "0    0.998273\n",
      "1    0.001727\n",
      "Name: Class, dtype: float64\n"
     ]
    }
   ],
   "source": [
    "print(\"Proportion of the classes in the data\")\n",
    "print(df['Class'].value_counts()/len(df))"
   ]
  },
  {
   "cell_type": "code",
   "execution_count": 6,
   "metadata": {},
   "outputs": [],
   "source": [
    "#X=df.drop(['Time','Class'],axis=1)"
   ]
  },
  {
   "cell_type": "code",
   "execution_count": 7,
   "metadata": {},
   "outputs": [],
   "source": [
    "#y=df['Class']"
   ]
  },
  {
   "cell_type": "code",
   "execution_count": 3,
   "metadata": {},
   "outputs": [],
   "source": [
    "X=np.array(df.loc[:,df.columns != 'Class'])\n",
    "y=np.array(df.loc[:,df.columns == 'Class']).reshape(-1,1)"
   ]
  },
  {
   "cell_type": "markdown",
   "metadata": {},
   "source": [
    "#### Scaling"
   ]
  },
  {
   "cell_type": "code",
   "execution_count": 4,
   "metadata": {},
   "outputs": [],
   "source": [
    "from sklearn.preprocessing import StandardScaler"
   ]
  },
  {
   "cell_type": "code",
   "execution_count": 5,
   "metadata": {},
   "outputs": [],
   "source": [
    "scx=StandardScaler()"
   ]
  },
  {
   "cell_type": "code",
   "execution_count": 6,
   "metadata": {},
   "outputs": [
    {
     "data": {
      "text/plain": [
       "array([[-1.73204473, -1.99658302, -0.69424232, ...,  0.33089162,\n",
       "        -0.06378115,  0.24496426],\n",
       "       [-1.73203256, -1.99658302,  0.60849633, ..., -0.02225568,\n",
       "         0.04460752, -0.34247454],\n",
       "       [-1.7320204 , -1.99656197, -0.69350046, ..., -0.13713686,\n",
       "        -0.18102083,  1.16068593],\n",
       "       ...,\n",
       "       [ 1.7320204 ,  1.6419735 ,  0.98002374, ...,  0.01103672,\n",
       "        -0.0804672 , -0.0818393 ],\n",
       "       [ 1.73203256,  1.6419735 , -0.12275539, ...,  0.26960398,\n",
       "         0.31668678, -0.31324853],\n",
       "       [ 1.73204473,  1.64205773, -0.27233093, ..., -0.00598394,\n",
       "         0.04134999,  0.51435531]])"
      ]
     },
     "execution_count": 6,
     "metadata": {},
     "output_type": "execute_result"
    }
   ],
   "source": [
    "scx.fit_transform(X)"
   ]
  },
  {
   "cell_type": "markdown",
   "metadata": {},
   "source": [
    "###### Train_Test_Split"
   ]
  },
  {
   "cell_type": "code",
   "execution_count": 7,
   "metadata": {},
   "outputs": [],
   "source": [
    "X_train, X_test, y_train, y_test = train_test_split(\n",
    "  X, y, test_size=0.33, random_state=42)\n"
   ]
  },
  {
   "cell_type": "markdown",
   "metadata": {},
   "source": [
    "#### Without SMOTE"
   ]
  },
  {
   "cell_type": "code",
   "execution_count": 8,
   "metadata": {},
   "outputs": [],
   "source": [
    "lg=LogisticRegression()"
   ]
  },
  {
   "cell_type": "code",
   "execution_count": 9,
   "metadata": {},
   "outputs": [
    {
     "name": "stderr",
     "output_type": "stream",
     "text": [
      "/usr/local/lib/python3.6/dist-packages/sklearn/utils/validation.py:744: DataConversionWarning: A column-vector y was passed when a 1d array was expected. Please change the shape of y to (n_samples, ), for example using ravel().\n",
      "  y = column_or_1d(y, warn=True)\n"
     ]
    },
    {
     "data": {
      "text/plain": [
       "LogisticRegression(C=1.0, class_weight=None, dual=False, fit_intercept=True,\n",
       "                   intercept_scaling=1, l1_ratio=None, max_iter=100,\n",
       "                   multi_class='auto', n_jobs=None, penalty='l2',\n",
       "                   random_state=None, solver='lbfgs', tol=0.0001, verbose=0,\n",
       "                   warm_start=False)"
      ]
     },
     "execution_count": 9,
     "metadata": {},
     "output_type": "execute_result"
    }
   ],
   "source": [
    "lg.fit(X_train,y_train)"
   ]
  },
  {
   "cell_type": "code",
   "execution_count": 10,
   "metadata": {},
   "outputs": [],
   "source": [
    "pred=lg.predict(X_test)"
   ]
  },
  {
   "cell_type": "code",
   "execution_count": 11,
   "metadata": {},
   "outputs": [],
   "source": [
    "from sklearn.metrics import accuracy_score,classification_report,confusion_matrix"
   ]
  },
  {
   "cell_type": "code",
   "execution_count": 12,
   "metadata": {},
   "outputs": [
    {
     "name": "stdout",
     "output_type": "stream",
     "text": [
      "0.9987125879110941\n",
      "              precision    recall  f1-score   support\n",
      "\n",
      "           0       1.00      1.00      1.00     93838\n",
      "           1       0.59      0.64      0.61       149\n",
      "\n",
      "    accuracy                           1.00     93987\n",
      "   macro avg       0.79      0.82      0.81     93987\n",
      "weighted avg       1.00      1.00      1.00     93987\n",
      "\n",
      "[[93770    68]\n",
      " [   53    96]]\n"
     ]
    }
   ],
   "source": [
    "print(accuracy_score(y_test,pred))\n",
    "print(classification_report(y_test,pred))\n",
    "print(confusion_matrix(y_test,pred))"
   ]
  },
  {
   "cell_type": "code",
   "execution_count": 13,
   "metadata": {},
   "outputs": [],
   "source": [
    "predt=lg.predict(X_train)"
   ]
  },
  {
   "cell_type": "code",
   "execution_count": 14,
   "metadata": {},
   "outputs": [
    {
     "name": "stdout",
     "output_type": "stream",
     "text": [
      "0.9986689026307515\n",
      "              precision    recall  f1-score   support\n",
      "\n",
      "           0       1.00      1.00      1.00    190477\n",
      "           1       0.64      0.60      0.62       343\n",
      "\n",
      "    accuracy                           1.00    190820\n",
      "   macro avg       0.82      0.80      0.81    190820\n",
      "weighted avg       1.00      1.00      1.00    190820\n",
      "\n",
      "[[190360    117]\n",
      " [   137    206]]\n"
     ]
    }
   ],
   "source": [
    "print(accuracy_score(y_train,predt))\n",
    "print(classification_report(y_train,predt))\n",
    "print(confusion_matrix(y_train,predt))"
   ]
  },
  {
   "cell_type": "code",
   "execution_count": 15,
   "metadata": {
    "scrolled": true
   },
   "outputs": [
    {
     "name": "stdout",
     "output_type": "stream",
     "text": [
      "predicted      0    1    All\n",
      "true                        \n",
      "0          93770   68  93838\n",
      "1             53   96    149\n",
      "All        93823  164  93987\n"
     ]
    }
   ],
   "source": [
    "print(pd.crosstab(y_test.ravel(),pred,rownames=['true'],colnames=['predicted'],margins=True))\n"
   ]
  },
  {
   "cell_type": "code",
   "execution_count": 16,
   "metadata": {
    "scrolled": true
   },
   "outputs": [
    {
     "name": "stdout",
     "output_type": "stream",
     "text": [
      "35.57046979865772\n"
     ]
    }
   ],
   "source": [
    "print(53/149*100)"
   ]
  },
  {
   "cell_type": "code",
   "execution_count": 17,
   "metadata": {},
   "outputs": [
    {
     "name": "stdout",
     "output_type": "stream",
     "text": [
      "predicted       0    1     All\n",
      "true                          \n",
      "0          190360  117  190477\n",
      "1             137  206     343\n",
      "All        190497  323  190820\n"
     ]
    }
   ],
   "source": [
    "print(pd.crosstab(y_train.ravel(),predt,rownames=['true'],colnames=['predicted'],margins=True))"
   ]
  },
  {
   "cell_type": "code",
   "execution_count": 18,
   "metadata": {},
   "outputs": [
    {
     "name": "stdout",
     "output_type": "stream",
     "text": [
      "39.94169096209912\n"
     ]
    }
   ],
   "source": [
    "print(137/343*100)"
   ]
  },
  {
   "cell_type": "markdown",
   "metadata": {},
   "source": [
    "###### It's clearly shown the percentage of test and train data giving their prediction results as misclassified. We'll try to correct this misclassification using SMOTE-Synthetic Minority Over Sampling Technique\n"
   ]
  },
  {
   "cell_type": "markdown",
   "metadata": {},
   "source": [
    "#### The model is said to be futile if it's baised.\n",
    "So Oversample the under sampled data.\n",
    "Apply Using SMOTE"
   ]
  },
  {
   "cell_type": "code",
   "execution_count": 37,
   "metadata": {
    "scrolled": true
   },
   "outputs": [],
   "source": [
    "from imblearn.over_sampling import SMOTE"
   ]
  },
  {
   "cell_type": "code",
   "execution_count": 38,
   "metadata": {},
   "outputs": [],
   "source": [
    "sm=SMOTE(random_state = 33)"
   ]
  },
  {
   "cell_type": "code",
   "execution_count": 39,
   "metadata": {},
   "outputs": [
    {
     "name": "stderr",
     "output_type": "stream",
     "text": [
      "/usr/local/lib/python3.6/dist-packages/sklearn/utils/deprecation.py:87: FutureWarning: Function safe_indexing is deprecated; safe_indexing is deprecated in version 0.22 and will be removed in version 0.24.\n",
      "  warnings.warn(msg, category=FutureWarning)\n"
     ]
    }
   ],
   "source": [
    "x_train_new,y_train_new=sm.fit_sample(X_train,y_train.ravel())"
   ]
  },
  {
   "cell_type": "code",
   "execution_count": 22,
   "metadata": {},
   "outputs": [
    {
     "data": {
      "text/plain": [
       "<matplotlib.axes._subplots.AxesSubplot at 0x7f851f409588>"
      ]
     },
     "execution_count": 22,
     "metadata": {},
     "output_type": "execute_result"
    },
    {
     "data": {
      "image/png": "[encoded data removed]",
      "text/plain": [
       "<Figure size 432x288 with 1 Axes>"
      ]
     },
     "execution_count": 22,
     "metadata": {
      "image/png": {
       "height": 249,
       "width": 394
      }
     },
     "output_type": "execute_result"
    }
   ],
   "source": [
    "pd.Series(y_train_new.ravel()).value_counts().plot.bar()"
   ]
  },
  {
   "cell_type": "code",
   "execution_count": 23,
   "metadata": {
    "scrolled": true
   },
   "outputs": [
    {
     "data": {
      "text/plain": [
       "array([0, 0, 0, ..., 0, 0, 0])"
      ]
     },
     "execution_count": 23,
     "metadata": {},
     "output_type": "execute_result"
    }
   ],
   "source": [
    "y_train.ravel()"
   ]
  },
  {
   "cell_type": "code",
   "execution_count": 26,
   "metadata": {},
   "outputs": [
    {
     "data": {
      "text/plain": [
       "LogisticRegression(C=1.0, class_weight=None, dual=False, fit_intercept=True,\n",
       "                   intercept_scaling=1, l1_ratio=None, max_iter=100,\n",
       "                   multi_class='auto', n_jobs=None, penalty='l2',\n",
       "                   random_state=None, solver='lbfgs', tol=0.0001, verbose=0,\n",
       "                   warm_start=False)"
      ]
     },
     "execution_count": 26,
     "metadata": {},
     "output_type": "execute_result"
    }
   ],
   "source": [
    "# fit the model\n",
    "lg.fit(x_train_new,y_train_new)"
   ]
  },
  {
   "cell_type": "code",
   "execution_count": 28,
   "metadata": {},
   "outputs": [],
   "source": [
    "#prediction for Training data\n",
    "pred_sm=lg.predict(x_train_new)"
   ]
  },
  {
   "cell_type": "code",
   "execution_count": 29,
   "metadata": {},
   "outputs": [
    {
     "name": "stdout",
     "output_type": "stream",
     "text": [
      "0.9599584201767143\n",
      "              precision    recall  f1-score   support\n",
      "\n",
      "           0       0.95      0.98      0.96    190477\n",
      "           1       0.97      0.94      0.96    190477\n",
      "\n",
      "    accuracy                           0.96    380954\n",
      "   macro avg       0.96      0.96      0.96    380954\n",
      "weighted avg       0.96      0.96      0.96    380954\n",
      "\n",
      "[[185717   4760]\n",
      " [ 10494 179983]]\n"
     ]
    }
   ],
   "source": [
    "print(accuracy_score(y_train_new,pred_sm))\n",
    "print(classification_report(y_train_new,pred_sm))\n",
    "print(confusion_matrix(y_train_new,pred_sm))"
   ]
  },
  {
   "cell_type": "code",
   "execution_count": 30,
   "metadata": {},
   "outputs": [
    {
     "name": "stdout",
     "output_type": "stream",
     "text": [
      "predicted       0       1     All\n",
      "true                             \n",
      "0          185717    4760  190477\n",
      "1           10494  179983  190477\n",
      "All        196211  184743  380954\n"
     ]
    }
   ],
   "source": [
    "print(pd.crosstab(y_train_new,pred_sm,rownames=['true'],colnames=['predicted'],margins=True))"
   ]
  },
  {
   "cell_type": "code",
   "execution_count": 31,
   "metadata": {},
   "outputs": [
    {
     "name": "stdout",
     "output_type": "stream",
     "text": [
      "0.05509326585362012\n"
     ]
    }
   ],
   "source": [
    "print(10494/190477)"
   ]
  },
  {
   "cell_type": "markdown",
   "metadata": {},
   "source": [
    "###### Roughly 5.5% of the fraud classes have been classified as not fraud.\n",
    "A vast Improvement"
   ]
  },
  {
   "cell_type": "code",
   "execution_count": 32,
   "metadata": {},
   "outputs": [],
   "source": [
    "# prediction for Testing data\n",
    "predt_sm=lg.predict(X_test)"
   ]
  },
  {
   "cell_type": "code",
   "execution_count": 33,
   "metadata": {
    "scrolled": true
   },
   "outputs": [
    {
     "name": "stdout",
     "output_type": "stream",
     "text": [
      "0.9746028706097651\n",
      "              precision    recall  f1-score   support\n",
      "\n",
      "           0       1.00      0.97      0.99     93838\n",
      "           1       0.05      0.88      0.10       149\n",
      "\n",
      "    accuracy                           0.97     93987\n",
      "   macro avg       0.53      0.93      0.54     93987\n",
      "weighted avg       1.00      0.97      0.99     93987\n",
      "\n",
      "[[91469  2369]\n",
      " [   18   131]]\n"
     ]
    }
   ],
   "source": [
    "print(accuracy_score(y_test,predt_sm))\n",
    "print(classification_report(y_test,predt_sm))\n",
    "print(confusion_matrix(y_test,predt_sm))"
   ]
  },
  {
   "cell_type": "code",
   "execution_count": 35,
   "metadata": {
    "scrolled": true
   },
   "outputs": [
    {
     "name": "stdout",
     "output_type": "stream",
     "text": [
      "predicted      0     1    All\n",
      "true                         \n",
      "0          91469  2369  93838\n",
      "1             18   131    149\n",
      "All        91487  2500  93987\n"
     ]
    }
   ],
   "source": [
    "print(pd.crosstab(y_test.ravel(),predt_sm,rownames=['true'],colnames=['predicted'],margins=True))"
   ]
  },
  {
   "cell_type": "code",
   "execution_count": 36,
   "metadata": {},
   "outputs": [
    {
     "name": "stdout",
     "output_type": "stream",
     "text": [
      "0.12080536912751678\n"
     ]
    }
   ],
   "source": [
    "print(18/149)"
   ]
  },
  {
   "cell_type": "markdown",
   "metadata": {},
   "source": [
    "### Conclusion\n",
    "One might argue that the reduced accuracy is an indicator of lower model performance. However, this is not true.\n",
    "\n",
    "Error in prediction can be made in two ways:\n",
    "\n",
    "Classifying not fraud as fraud\n",
    "Classifying fraud as not fraud\n",
    "It should not be hard to understand that the second error is costlier than the first.\n",
    "\n",
    "The objective of each classification problem is different. So make sure to evaluate each model with respect to its own objective instead of merely judging it on its accuracy."
   ]
  }
 ],
 "metadata": {
  "kernelspec": {
   "display_name": "Python 3",
   "language": "python",
   "name": "python3"
  },
  "language_info": {
   "codemirror_mode": {
    "name": "ipython",
    "version": 3
   },
   "file_extension": ".py",
   "mimetype": "text/x-python",
   "name": "python",
   "nbconvert_exporter": "python",
   "pygments_lexer": "ipython3",
   "version": "3.7.3"
  }
 },
 "nbformat": 4,
 "nbformat_minor": 1
}
