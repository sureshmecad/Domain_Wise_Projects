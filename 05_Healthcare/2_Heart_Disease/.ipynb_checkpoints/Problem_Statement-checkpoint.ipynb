{
 "cells": [
  {
   "cell_type": "markdown",
   "metadata": {},
   "source": [
    "<h2 style=\"color:blue\" align=\"left\"> Support Vector Machines in Python, From Start to Finish </h2>"
   ]
  },
  {
   "cell_type": "markdown",
   "metadata": {},
   "source": [
    "### In this Guided Project, you will:\n",
    "\n",
    "\n",
    "- Import data into, and manipulating a pandas dataframe\n",
    "\n",
    "\n",
    "- Format the data for a support vector machine, including One-Hot Encoding and missing data.\n",
    "\n",
    "\n",
    "- Optimize parameters for the radial basis function and classification\n",
    "\n",
    "\n",
    "- Build, evaluate, draw and interpret a support vector machine"
   ]
  },
  {
   "cell_type": "markdown",
   "metadata": {},
   "source": [
    "- In this lesson we will built this Support Vector Machine for classification using scikit-learn and the Radial Basis Function (RBF) Kernel. Our training data set contains continuous and categorical data from the UCI Machine Learning Repository to predict whether or not a patient has heart disease."
   ]
  },
  {
   "cell_type": "markdown",
   "metadata": {},
   "source": [
    "### Learn step-by-step\n",
    "\n",
    "\n",
    "- Task 1: Import the modules that will do all the work\n",
    "\n",
    "\n",
    "- Task 2: Import the data\n",
    "\n",
    "\n",
    "- Task 3: Missing Data Part 1: Identifying Missing Data\n",
    "\n",
    "\n",
    "- Task 4: Missing Data Part 2: Dealing With Missing Data\n",
    "\n",
    "\n",
    "- Task 5: Format Data Part 1: Split the Data into Dependent and Independent Variables\n",
    "\n",
    "\n",
    "- Task 6: Format the Data Part 2: One-Hot Encoding\n",
    "\n",
    "\n",
    "- Task 7: Format the Data Part 3: Centering and Scaling\n",
    "\n",
    "\n",
    "- Task 8: Build A Preliminary Support Vector Machine\n",
    "\n",
    "\n",
    "- Task 9: Optimize Parameters with Cross Validation\n",
    "\n",
    "\n",
    "- Task 10: Building, Evaluating, Drawing, and Interpreting the Final Support Vector Machine"
   ]
  },
  {
   "cell_type": "code",
   "execution_count": null,
   "metadata": {},
   "outputs": [],
   "source": []
  }
 ],
 "metadata": {
  "kernelspec": {
   "display_name": "Python 3",
   "language": "python",
   "name": "python3"
  },
  "language_info": {
   "codemirror_mode": {
    "name": "ipython",
    "version": 3
   },
   "file_extension": ".py",
   "mimetype": "text/x-python",
   "name": "python",
   "nbconvert_exporter": "python",
   "pygments_lexer": "ipython3",
   "version": "3.7.3"
  }
 },
 "nbformat": 4,
 "nbformat_minor": 2
}
